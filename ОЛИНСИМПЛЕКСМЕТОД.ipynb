{
 "cells": [
  {
   "cell_type": "markdown",
   "id": "5793d0ad",
   "metadata": {},
   "source": [
    "# Третья Задача"
   ]
  },
  {
   "cell_type": "markdown",
   "id": "328c6dfc",
   "metadata": {},
   "source": [
    "Для распределения смен в течении дня был использован симплекс метод\n",
    "Сущность метода: построение базисных решений, на которых монотонно убывает линейный функционал, до ситуации, когда выполняются необходимые условия локальной оптимальности. \n",
    "Для реализации был использован метод linprog из scypy.optimize. Перед использоыванием linprog,была построена матрица A со всеми возможными вариантами смен. После применения метода linprog был получен массив x[n](где n - количество вариантов поставить одну смену). Таким образом, если x[i] = h, значит необходимо поставить i-ую смену для h курьеров, время i-ой смены можно узнать с помощью матрицы A."
   ]
  },
  {
   "cell_type": "code",
   "execution_count": 1,
   "id": "73be9221",
   "metadata": {},
   "outputs": [],
   "source": [
    "h = [1, 5, 3, 1, 2, 1, 3, 5, 6, 3, 1]\n",
    "n = 11\n",
    "m = 30 \n",
    "for i in range(0,n):\n",
    "    h[i] = h[i]*(-1)\n",
    "c = [1]*m\n",
    "A = [0] * n \n",
    "for i in range(n): \n",
    "    A[i] = [0] * m \n",
    "for i in range(0,n):\n",
    "    for j in range(0,m):\n",
    "        A[i][j] = 0\n",
    "k = 4\n",
    "z = 0\n",
    "for j in range(0,m): \n",
    "    if(z + k == n + 1):\n",
    "        k = k + 1\n",
    "        z = 0\n",
    "    for i in range(z,z + k):\n",
    "        A[i][j] = -1\n",
    "    z = z + 1   \n"
   ]
  },
  {
   "cell_type": "code",
   "execution_count": 2,
   "id": "fee41a33",
   "metadata": {},
   "outputs": [
    {
     "name": "stderr",
     "output_type": "stream",
     "text": [
      "/tmp/ipykernel_7734/4249917770.py:3: DeprecationWarning: `method='simplex'` is deprecated and will be removed in SciPy 1.11.0. Please use one of the HiGHS solvers (e.g. `method='highs'`) in new code.\n",
      "  scipy.optimize.linprog(c, A_ub=A, b_ub=h, A_eq=None, b_eq=None, bounds=None, method='simplex', callback=None, options=None, x0=None, integrality=None)\n"
     ]
    },
    {
     "data": {
      "text/plain": [
       "     con: array([], dtype=float64)\n",
       "     fun: 8.0\n",
       " message: 'Optimization terminated successfully.'\n",
       "     nit: 14\n",
       "   slack: array([0., 0., 2., 4., 2., 2., 2., 1., 0., 0., 0.])\n",
       "  status: 0\n",
       " success: True\n",
       "       x: array([1., 1., 0., 0., 0., 0., 2., 1., 0., 0., 0., 0., 0., 0., 0., 0., 0.,\n",
       "       0., 0., 0., 0., 0., 0., 0., 0., 0., 0., 3., 0., 0.])"
      ]
     },
     "execution_count": 2,
     "metadata": {},
     "output_type": "execute_result"
    }
   ],
   "source": [
    "import scipy\n",
    "from scipy.optimize import linprog\n",
    "scipy.optimize.linprog(c, A_ub=A, b_ub=h, A_eq=None, b_eq=None, bounds=None, method='simplex', callback=None, options=None, x0=None, integrality=None)"
   ]
  }
 ],
 "metadata": {
  "kernelspec": {
   "display_name": "Python 3 (ipykernel)",
   "language": "python",
   "name": "python3"
  },
  "language_info": {
   "codemirror_mode": {
    "name": "ipython",
    "version": 3
   },
   "file_extension": ".py",
   "mimetype": "text/x-python",
   "name": "python",
   "nbconvert_exporter": "python",
   "pygments_lexer": "ipython3",
   "version": "3.8.10"
  }
 },
 "nbformat": 4,
 "nbformat_minor": 5
}
